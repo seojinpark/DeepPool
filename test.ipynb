{
 "metadata": {
  "language_info": {
   "codemirror_mode": {
    "name": "ipython",
    "version": 3
   },
   "file_extension": ".py",
   "mimetype": "text/x-python",
   "name": "python",
   "nbconvert_exporter": "python",
   "pygments_lexer": "ipython3",
   "version": "3.9.5"
  },
  "orig_nbformat": 4,
  "kernelspec": {
   "name": "python3",
   "display_name": "Python 3.9.5 64-bit ('mit': conda)"
  },
  "interpreter": {
   "hash": "9634d7bd982758b2e6d5849565fb3ba05eb89e7b64228923769e7653f3aa80de"
  }
 },
 "nbformat": 4,
 "nbformat_minor": 2,
 "cells": [
  {
   "cell_type": "code",
   "execution_count": 5,
   "source": [
    "import torch\n",
    "import numpy as np\n",
    "\n",
    "from gpuProfiler import GpuProfiler\n",
    "\n",
    "\n",
    "start = torch.cuda.Event(enable_timing=True)\n",
    "end = torch.cuda.Event(enable_timing=True)\n",
    "\n",
    "batchSize = 128\n",
    "in_channels = 32\n",
    "out_channels = 64\n",
    "kernel_size = (3, 3)\n",
    "inputSize = (32, 17, 17)\n",
    "\n",
    "train_dataset = GpuProfiler.SyntheticDataset(inputSize, batchSize * 200) # 30) # \n",
    "train_loader = torch.utils.data.DataLoader(\n",
    "        train_dataset, batch_size=batchSize, shuffle=False, pin_memory=True, drop_last=True)\n",
    "\n",
    "model = torch.nn.Conv2d(in_channels, out_channels, kernel_size)\n",
    "optimizer = torch.optim.SGD(model.parameters(), lr=0.1)\n",
    "criterion = torch.nn.CrossEntropyLoss().cuda()\n",
    "\n",
    "for batch_idx, (data, target) in enumerate(train_loader):       \n",
    "    data, target = data.cuda(), target.cuda()\n",
    "    break\n",
    "\n",
    "model.cuda()\n",
    "for _ in range(10):\n",
    "    optimizer.zero_grad()\n",
    "    output = model(data)\n",
    "    print(output.shape)\n",
    "\n",
    "    output = torch.flatten(output, 1)\n",
    "    output = torch.nn.functional.log_softmax(output, dim=1)\n",
    "    loss = criterion(output, target)\n",
    "\n",
    "    start.record()\n",
    "    output.backward(output)\n",
    "    # output.backward(target)\n",
    "    end.record()\n",
    "\n",
    "    optimizer.step()\n",
    "\n",
    "    # Waits for everything to finish running\n",
    "    torch.cuda.synchronize()\n",
    "\n",
    "    print(start.elapsed_time(end))"
   ],
   "outputs": [
    {
     "output_type": "stream",
     "name": "stdout",
     "text": [
      "torch.Size([128, 64, 15, 15])\n",
      "16.874496459960938\n",
      "torch.Size([128, 64, 15, 15])\n",
      "0.38604798913002014\n",
      "torch.Size([128, 64, 15, 15])\n",
      "0.31539198756217957\n",
      "torch.Size([128, 64, 15, 15])\n",
      "0.3112959861755371\n",
      "torch.Size([128, 64, 15, 15])\n",
      "0.3112959861755371\n",
      "torch.Size([128, 64, 15, 15])\n",
      "0.30822399258613586\n",
      "torch.Size([128, 64, 15, 15])\n",
      "0.31334400177001953\n",
      "torch.Size([128, 64, 15, 15])\n",
      "0.3102720081806183\n",
      "torch.Size([128, 64, 15, 15])\n",
      "0.31334400177001953\n",
      "torch.Size([128, 64, 15, 15])\n",
      "0.3041279911994934\n"
     ]
    }
   ],
   "metadata": {}
  },
  {
   "cell_type": "markdown",
   "source": [
    "created new id 0200ffffff110002000000000000000000000000000000000000000000000000\n",
    "already existing ids : \n",
    "attempt to generate group id for ranks: 0 1 \n",
    "created new id 0200ff3dff110002000000000000000000000000000000000000000000000000\n",
    "already existing ids : 0200ffffff110002000000000000000000000000000000000000000000000000 \n",
    "attempt to generate group id for ranks: 0 2 4 \n",
    "created new id 0200ffffff110002000000000000000000000000000000000000000000000000\n",
    "already existing ids : 0200ff3dff110002000000000000000000000000000000000000000000000000 0200ffffff110002000000000000000000000000000000000000000000000000 \n",
    "attempt to generate group id for ranks: 0 4 \n",
    "created new id 0200ffffff110002000000000000000000000000000000000000000000000000\n",
    "already existing ids : 0200ff3dff110002000000000000000000000000000000000000000000000000 0200ffffff110002000000000000000000000000000000000000000000000000 \n",
    "attempt to generate group id for ranks: 0 2 \n",
    "created new id 0200ff71ff110002000000000000000000000000000000000000000000000000\n",
    "already existing ids : 0200ff3dff110002000000000000000000000000000000000000000000000000 0200ffffff110002000000000000000000000000000000000000000000000000 \n",
    "attempt to generate group id for ranks: 0 1 2 3 4 \n",
    "created new id 0200ff03ff110002000000000000000000000000000000000000000000000000\n",
    "already existing ids : 0200ff3dff110002000000000000000000000000000000000000000000000000 0200ff71ff110002000000000000000000000000000000000000000000000000 0200ffffff110002000000000000000000000000000000000000000000000000 "
   ],
   "metadata": {}
  }
 ]
}